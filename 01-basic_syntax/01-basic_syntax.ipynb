{
 "cells": [
  {
   "cell_type": "markdown",
   "metadata": {
    "slideshow": {
     "slide_type": "slide"
    }
   },
   "source": [
    "# Lesson 1: Basic Syntax"
   ]
  },
  {
   "cell_type": "markdown",
   "metadata": {
    "slideshow": {
     "slide_type": "-"
    }
   },
   "source": [
    "In this lesson we will learn about...\n",
    "\n",
    "+ Your First Program: \"Hello, World!\"\n",
    "+ Identifier Rules and Reserved Words\n",
    "+ Lines and Indentation\n",
    "+ Quotation\n",
    "+ Comments\n",
    "+ Input and Output"
   ]
  },
  {
   "cell_type": "markdown",
   "metadata": {
    "slideshow": {
     "slide_type": "slide"
    }
   },
   "source": [
    "# A Word of Warning about Python Versions\n",
    "\n",
    "+ Two main version of python are still in use: Python **2** and Python **3**.\n",
    "+ We are using Python **3**. Make sure you are using the correct tools!"
   ]
  },
  {
   "cell_type": "markdown",
   "metadata": {
    "slideshow": {
     "slide_type": "slide"
    }
   },
   "source": [
    "# \"Hello, World!\"\n",
    "The \"Hello, World!\" program is the most basic you can run, and is traditionally your first program."
   ]
  },
  {
   "cell_type": "code",
   "execution_count": 1,
   "metadata": {
    "slideshow": {
     "slide_type": "-"
    }
   },
   "outputs": [
    {
     "name": "stdout",
     "output_type": "stream",
     "text": [
      "Hello, World!\n"
     ]
    }
   ],
   "source": [
    "print(\"Hello, World!\")"
   ]
  },
  {
   "cell_type": "markdown",
   "metadata": {
    "slideshow": {
     "slide_type": "notes"
    }
   },
   "source": [
    "This program simply writes `Hello, World!` to the screen. We'll go more in-depth about the parts of this later. Use this program to make sure your environment is set up correctly and that you can run Python code.\n",
    "\n",
    "In IDLE:\n",
    "\n",
    "0. You may see the python shell pop up. You can run code directly here, which is great for a few lines, but we want to be able to run a whole file of code at once. As such, even though Hello World is one line, we'll use a file.\n",
    "1. Go to `File > New` to create a new Python file.\n",
    "2. Type the code into this file, then use `File > Save As...` to save it with the `.py` file extension. Avoid spaces in file names if you can.\n",
    "3. To run the code, go to `Run > Run Module`. The Python Shell will open and run the code in your file."
   ]
  },
  {
   "cell_type": "markdown",
   "metadata": {
    "slideshow": {
     "slide_type": "slide"
    }
   },
   "source": [
    "# Indentation\n",
    "\n",
    "+ Blocks of code need to be indented\n",
    "+ The number of tabs/spaces is up to you, but must be consistent\n",
    "  + Python's Style Guide suggests using 4 spaces per indent\n",
    "+ No braces are used, unlike many other programming languages"
   ]
  },
  {
   "cell_type": "markdown",
   "metadata": {
    "slideshow": {
     "slide_type": "notes"
    }
   },
   "source": [
    "At this moment, you don't need to know what this code does. Rather, notice how the indentation creates blocks of code."
   ]
  },
  {
   "cell_type": "code",
   "execution_count": 2,
   "metadata": {
    "slideshow": {
     "slide_type": "-"
    }
   },
   "outputs": [
    {
     "name": "stdout",
     "output_type": "stream",
     "text": [
      "True\n"
     ]
    }
   ],
   "source": [
    "# Correct\n",
    "if True:\n",
    "    print(\"True\")\n",
    "else:\n",
    "    print(\"False\")"
   ]
  },
  {
   "cell_type": "code",
   "execution_count": 3,
   "metadata": {
    "slideshow": {
     "slide_type": "-"
    }
   },
   "outputs": [
    {
     "ename": "IndentationError",
     "evalue": "expected an indented block (<ipython-input-3-71288eeef709>, line 3)",
     "output_type": "error",
     "traceback": [
      "\u001b[0;36m  File \u001b[0;32m\"<ipython-input-3-71288eeef709>\"\u001b[0;36m, line \u001b[0;32m3\u001b[0m\n\u001b[0;31m    print(\"True\")\u001b[0m\n\u001b[0m        ^\u001b[0m\n\u001b[0;31mIndentationError\u001b[0m\u001b[0;31m:\u001b[0m expected an indented block\n"
     ]
    }
   ],
   "source": [
    "# Incorrect\n",
    "if True:\n",
    "print(\"True\")\n",
    "else:\n",
    "print(\"False\")"
   ]
  },
  {
   "cell_type": "markdown",
   "metadata": {
    "slideshow": {
     "slide_type": "slide"
    }
   },
   "source": [
    "# Quotation\n",
    "\n",
    "+ Use single (`'`), double (`\"`), or triple (`'''` or `\"\"\"`) quotes to denote string literals\n",
    "+ Single and Double quotes span one line\n",
    "  + In python, these have no syntactic difference\n",
    "+ Triple quotes can span multiple lines\n",
    "+ Use a backslash (`\\`) to escape a quotation mark in a string\n",
    "  + You do not have to escape `\"` inside `'`, and vice versa"
   ]
  },
  {
   "cell_type": "code",
   "execution_count": 4,
   "metadata": {
    "slideshow": {
     "slide_type": "subslide"
    }
   },
   "outputs": [
    {
     "name": "stdout",
     "output_type": "stream",
     "text": [
      "string\n",
      "string\n",
      "This is a sentence \"with double quotes\" \n",
      "This is also a sentence \"with double quotes in it\"\n",
      "This is a quote \n",
      "that takes multiple lines. Notice \n",
      "how the newlines are part of the string too!\n"
     ]
    }
   ],
   "source": [
    "string1 = 'string'\n",
    "string2 = \"string\"\n",
    "sentence = \"This is a sentence \\\"with double quotes\\\" \"\n",
    "sentence2 = 'This is also a sentence \"with double quotes in it\"'\n",
    "multiline = \"\"\"This is a quote \n",
    "that takes multiple lines. Notice \n",
    "how the newlines are part of the string too!\"\"\"\n",
    "\n",
    "print(string1)\n",
    "print(string2)\n",
    "print(sentence)\n",
    "print(sentence2)\n",
    "print(multiline)"
   ]
  },
  {
   "cell_type": "markdown",
   "metadata": {
    "slideshow": {
     "slide_type": "notes"
    }
   },
   "source": [
    "+ Did you notice that `multiline` kept the line breaks when printed? \n",
    "  + The new line is just a character (`\\n`)! \n",
    "  + When you use multiline strings, it gets inserted wherever you insert a new line.\n",
    "  + You can also manually insert this character into any string by typing `\\n`"
   ]
  },
  {
   "cell_type": "markdown",
   "metadata": {
    "slideshow": {
     "slide_type": "slide"
    }
   },
   "source": [
    "# Comments\n",
    "\n",
    "Comments are pieces of text in a python file that are not interpreted as code."
   ]
  },
  {
   "cell_type": "markdown",
   "metadata": {
    "slideshow": {
     "slide_type": "notes"
    }
   },
   "source": [
    "Use the `#` to denote a comment anywhere in a line. The rest of the line after `#` is considered a comment. Blank lines are also ignored by python."
   ]
  },
  {
   "cell_type": "code",
   "execution_count": 5,
   "metadata": {
    "slideshow": {
     "slide_type": "-"
    }
   },
   "outputs": [],
   "source": [
    "# This is a comment\n",
    "a = 2 # This is also a comment\n",
    "\n",
    "# blank lines also are ignored!"
   ]
  },
  {
   "cell_type": "markdown",
   "metadata": {
    "slideshow": {
     "slide_type": "slide"
    }
   },
   "source": [
    "# Input and Output\n",
    "\n",
    "+ Use `input()` to get input from the keyboard.\n",
    "+ Use `print()` to send output to the screen."
   ]
  },
  {
   "cell_type": "code",
   "execution_count": 6,
   "metadata": {
    "slideshow": {
     "slide_type": "-"
    }
   },
   "outputs": [
    {
     "name": "stdout",
     "output_type": "stream",
     "text": [
      "Enter some text: This is from the keyboard.\n",
      "This is from the keyboard.\n"
     ]
    }
   ],
   "source": [
    "text = input(\"Enter some text: \")\n",
    "print(text)"
   ]
  },
  {
   "cell_type": "markdown",
   "metadata": {
    "slideshow": {
     "slide_type": "notes"
    }
   },
   "source": [
    "+ The argument to `input` (the string between the parenthesis) is the prompt to be shown to the user.\n",
    "  + Always end this with a space."
   ]
  }
 ],
 "metadata": {
  "celltoolbar": "Slideshow",
  "kernelspec": {
   "display_name": "Python 3",
   "language": "python",
   "name": "python3"
  },
  "language_info": {
   "codemirror_mode": {
    "name": "ipython",
    "version": 3
   },
   "file_extension": ".py",
   "mimetype": "text/x-python",
   "name": "python",
   "nbconvert_exporter": "python",
   "pygments_lexer": "ipython3",
   "version": "3.6.9"
  },
  "title": "Lesson 1: Basic Syntax"
 },
 "nbformat": 4,
 "nbformat_minor": 2
}
