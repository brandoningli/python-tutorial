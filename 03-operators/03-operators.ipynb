{
 "cells": [
  {
   "cell_type": "markdown",
   "metadata": {
    "slideshow": {
     "slide_type": "slide"
    }
   },
   "source": [
    "# Lesson 3: Operators"
   ]
  },
  {
   "cell_type": "markdown",
   "metadata": {
    "slideshow": {
     "slide_type": "-"
    }
   },
   "source": [
    "In this lesson, we wil learn about...\n",
    "\n",
    "+ Arithmetic operators\n",
    "+ Assignment operators\n",
    "+ Comparison operators\n",
    "+ Logical operators\n",
    "+ Membership operators"
   ]
  },
  {
   "cell_type": "markdown",
   "metadata": {
    "slideshow": {
     "slide_type": "slide"
    }
   },
   "source": [
    "# Arithmetic Operators\n",
    "\n",
    "These are used with numbers to perform mathematical operations."
   ]
  },
  {
   "cell_type": "code",
   "execution_count": 1,
   "metadata": {
    "slideshow": {
     "slide_type": "-"
    }
   },
   "outputs": [
    {
     "name": "stdout",
     "output_type": "stream",
     "text": [
      "8\n",
      "2\n",
      "15\n",
      "1.6666666666666667\n",
      "2\n",
      "125\n",
      "1\n"
     ]
    }
   ],
   "source": [
    "x = 5\n",
    "y = 3\n",
    "\n",
    "print( x + y )\n",
    "print( x - y )\n",
    "print( x * y )\n",
    "print( x / y )\n",
    "print( x % y )\n",
    "print( x ** y )\n",
    "print( x // y )"
   ]
  },
  {
   "cell_type": "markdown",
   "metadata": {
    "slideshow": {
     "slide_type": "notes"
    }
   },
   "source": [
    "Operator|Name|Notes\n",
    ":---:|:---:|:---:\n",
    "`+`|Addition|\n",
    "`-`|Subtraction|\n",
    "`*`|Multiplication|\n",
    "`/`|Division|Will return `float`\n",
    "`%`|Modulus|Remainder of $x\\div{}y$\n",
    "`**`|Exponentiation|$x^y$\n",
    "`//`|Integer Division|Truncates decimal"
   ]
  },
  {
   "cell_type": "markdown",
   "metadata": {
    "slideshow": {
     "slide_type": "slide"
    }
   },
   "source": [
    "# Assignment Operators\n",
    "\n",
    "These work like the arithmetic operators, but variable being assigned is part of the equation."
   ]
  },
  {
   "cell_type": "code",
   "execution_count": 2,
   "metadata": {
    "slideshow": {
     "slide_type": "-"
    }
   },
   "outputs": [
    {
     "name": "stdout",
     "output_type": "stream",
     "text": [
      "8\n",
      "2\n",
      "15\n"
     ]
    }
   ],
   "source": [
    "x = 5\n",
    "x += 3\n",
    "print(x)\n",
    "\n",
    "x = 5\n",
    "x -= 3\n",
    "print(x)\n",
    "\n",
    "x = 5\n",
    "x *= 3\n",
    "print(x)"
   ]
  },
  {
   "cell_type": "code",
   "execution_count": 3,
   "metadata": {
    "slideshow": {
     "slide_type": "subslide"
    }
   },
   "outputs": [
    {
     "name": "stdout",
     "output_type": "stream",
     "text": [
      "1.6666666666666667\n",
      "2\n",
      "125\n",
      "1\n"
     ]
    }
   ],
   "source": [
    "x = 5\n",
    "x /= 3\n",
    "print(x)\n",
    "\n",
    "x = 5\n",
    "x %= 3\n",
    "print(x)\n",
    "\n",
    "x = 5\n",
    "x **= 3\n",
    "print(x)\n",
    "\n",
    "x = 5\n",
    "x //= 3\n",
    "print(x)"
   ]
  },
  {
   "cell_type": "markdown",
   "metadata": {
    "slideshow": {
     "slide_type": "notes"
    }
   },
   "source": [
    "Operator|Name|Same As\n",
    ":---:|:---:|:---:\n",
    "`+=`|Addition|`x=x+3`\n",
    "`-=`|Subtraction|`x=x-3`\n",
    "`*=`|Multiplication|`x=x*3`\n",
    "`/=`|Division|`x=x/3`\n",
    "`%=`|Modulus|`x=x%3`\n",
    "`**=`|Exponentiation|`x=x**3`\n",
    "`//=`|Integer Division|`x=x//3`"
   ]
  },
  {
   "cell_type": "markdown",
   "metadata": {
    "slideshow": {
     "slide_type": "slide"
    }
   },
   "source": [
    "# Comparison Operators\n",
    "\n",
    "These are used to compare two values, and always return a `bool`. They become more useful when we talk about `if...else` and loops later on."
   ]
  },
  {
   "cell_type": "code",
   "execution_count": 4,
   "metadata": {
    "slideshow": {
     "slide_type": "-"
    }
   },
   "outputs": [
    {
     "name": "stdout",
     "output_type": "stream",
     "text": [
      "False\n",
      "True\n",
      "False\n",
      "True\n",
      "False\n",
      "True\n"
     ]
    }
   ],
   "source": [
    "print( 3 == 5 )\n",
    "print( 3 != 5 )\n",
    "print( 3 > 5 )\n",
    "print( 3 < 5 )\n",
    "print( 3 >= 5 )\n",
    "print( 3 <= 5 )"
   ]
  },
  {
   "cell_type": "markdown",
   "metadata": {
    "slideshow": {
     "slide_type": "slide"
    }
   },
   "source": [
    "# Logical Operators\n",
    "\n",
    "These are primarily used in `if...else` and loops to combine multiple expressions."
   ]
  },
  {
   "cell_type": "code",
   "execution_count": 5,
   "metadata": {
    "slideshow": {
     "slide_type": "-"
    }
   },
   "outputs": [
    {
     "name": "stdout",
     "output_type": "stream",
     "text": [
      "False\n",
      "True\n",
      "False\n"
     ]
    }
   ],
   "source": [
    "print( True and False )\n",
    "print( True or False )\n",
    "print( not True )"
   ]
  },
  {
   "cell_type": "markdown",
   "metadata": {
    "slideshow": {
     "slide_type": "subslide"
    }
   },
   "source": [
    "## `and` Truth Table\n",
    "`x`|`y`|`x and y`\n",
    ":---:|:---:|:---:\n",
    "`True`|`True`|`True`\n",
    "`True`|`False`|`False`\n",
    "`False`|`True`|`False`\n",
    "`False`|`False`|`False`\n",
    "\n",
    "## `or` Truth Table\n",
    "`x`|`y`|`x or y`\n",
    ":---:|:---:|:---:\n",
    "`True`|`True`|`True`\n",
    "`True`|`False`|`True`\n",
    "`False`|`True`|`True`\n",
    "`False`|`False`|`False`"
   ]
  },
  {
   "cell_type": "markdown",
   "metadata": {
    "slideshow": {
     "slide_type": "slide"
    }
   },
   "source": [
    "# Membership Operators\n",
    "\n",
    "These are used to test if a sequence is present in an object. Recall that we saw this with strings, and will again with more complex data structures."
   ]
  },
  {
   "cell_type": "code",
   "execution_count": 6,
   "metadata": {
    "slideshow": {
     "slide_type": "-"
    }
   },
   "outputs": [
    {
     "name": "stdout",
     "output_type": "stream",
     "text": [
      "True\n",
      "False\n"
     ]
    }
   ],
   "source": [
    "print( \"e\" in \"Hello\" )\n",
    "print( \"e\" not in \"Hello\" )"
   ]
  },
  {
   "cell_type": "markdown",
   "metadata": {
    "slideshow": {
     "slide_type": "slide"
    }
   },
   "source": [
    "# Order of Operations\n",
    "\n",
    "1. Parenthesis\n",
    "2. Exponents\n",
    "3. Multiplication, Division, Modulus\n",
    "4. Addition, Subtraction\n",
    "5. Comparisons, Membership, Identity\n",
    "6. `not`\n",
    "7. `and`\n",
    "8. `or`"
   ]
  }
 ],
 "metadata": {
  "celltoolbar": "Slideshow",
  "kernelspec": {
   "display_name": "Python 3",
   "language": "python",
   "name": "python3"
  },
  "language_info": {
   "codemirror_mode": {
    "name": "ipython",
    "version": 3
   },
   "file_extension": ".py",
   "mimetype": "text/x-python",
   "name": "python",
   "nbconvert_exporter": "python",
   "pygments_lexer": "ipython3",
   "version": "3.6.9"
  },
  "title": "Lesson 3: Operators"
 },
 "nbformat": 4,
 "nbformat_minor": 2
}
