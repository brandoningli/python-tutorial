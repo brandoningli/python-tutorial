{
 "cells": [
  {
   "cell_type": "markdown",
   "metadata": {
    "slideshow": {
     "slide_type": "slide"
    }
   },
   "source": [
    "# Lesson 4: Non-Primitive Data Types\n",
    "\n",
    "In this lesson, we will learn about...\n",
    "\n",
    "+ Lists\n",
    "+ Tuples\n",
    "+ Sets\n",
    "+ Dictionaries"
   ]
  },
  {
   "cell_type": "markdown",
   "metadata": {
    "slideshow": {
     "slide_type": "slide"
    }
   },
   "source": [
    "While there are many others, we will look at the four main **collection** data types. Many have roots in math. They can hold any data type, and even multiple types at once. They have many similarities but some important differences.\n",
    "\n",
    "|Type|Representation|Ordered?|Changeable / Mutable?|Duplicates?|Special Qualities|\n",
    "|:---:|:---:|:---:|:---:|:---:|:---:|\n",
    "|List|`[]`|Yes|Yes|Yes||\n",
    "|Tuple|`()`|Yes|No|Yes||\n",
    "|Set|`{}`|No|Yes|No|Unindexed|\n",
    "|Dictionary|`{:}`|No|Yes|No|Indexed by key|"
   ]
  },
  {
   "cell_type": "markdown",
   "metadata": {
    "slideshow": {
     "slide_type": "slide"
    }
   },
   "source": [
    "# List\n",
    "\n",
    "This is the closest data type to the traditional array."
   ]
  },
  {
   "cell_type": "code",
   "execution_count": 1,
   "metadata": {
    "slideshow": {
     "slide_type": "-"
    }
   },
   "outputs": [
    {
     "name": "stdout",
     "output_type": "stream",
     "text": [
      "['apple', 'banana', 'orange']\n",
      "3\n",
      "banana\n",
      "orange\n",
      "['apple', 'banana']\n",
      "True\n",
      "APPLE\n",
      "a\n"
     ]
    }
   ],
   "source": [
    "fruits = [\"apple\", \"banana\", \"orange\"]\n",
    "\n",
    "print(fruits)\n",
    "print(len(fruits))\n",
    "print(fruits[1])\n",
    "print(fruits[-1])\n",
    "print(fruits[0:2])\n",
    "print(\"banana\" in fruits)\n",
    "print(fruits[0].upper())\n",
    "print(fruits[1][1])"
   ]
  },
  {
   "cell_type": "markdown",
   "metadata": {
    "slideshow": {
     "slide_type": "notes"
    }
   },
   "source": [
    "+ You can use the same operators as strings to determine the length, get specific elements, and see if an element is in the list.\n",
    "+ Since this list stores strings, you can then even use string functions on the result!"
   ]
  },
  {
   "cell_type": "code",
   "execution_count": 2,
   "metadata": {
    "slideshow": {
     "slide_type": "subslide"
    }
   },
   "outputs": [
    {
     "name": "stdout",
     "output_type": "stream",
     "text": [
      "['apple', 'pineapple', 'orange']\n",
      "['apple', 'tomato', 'pineapple', 'orange', 'blueberry']\n",
      "['tomato', 'pineapple', 'orange', 'blueberry']\n",
      "['tomato', 'pineapple', 'orange']\n",
      "blueberry\n",
      "['tomato', 'pineapple', 'orange', 'carrot', 'squash']\n",
      "[]\n"
     ]
    }
   ],
   "source": [
    "fruits = [\"apple\", \"banana\", \"orange\"]\n",
    "veggies = [\"carrot\", \"squash\"]\n",
    "\n",
    "fruits[1] = \"pineapple\"\n",
    "print(fruits)\n",
    "\n",
    "fruits.append(\"blueberry\")\n",
    "fruits.insert(1, \"tomato\")\n",
    "print(fruits)\n",
    "\n",
    "fruits.remove(\"apple\")\n",
    "print(fruits)\n",
    "\n",
    "popped = fruits.pop()\n",
    "print(fruits)\n",
    "print(popped)\n",
    "\n",
    "print(fruits + veggies)\n",
    "\n",
    "fruits.clear()\n",
    "print(fruits)"
   ]
  },
  {
   "cell_type": "markdown",
   "metadata": {
    "slideshow": {
     "slide_type": "notes"
    }
   },
   "source": [
    "+ You can update an item a a given index by referencing its postiion and assigning a value\n",
    "+ You can `insert()` a value at a given index. This pushes other values back.\n",
    "+ You can `remove()` a given value. An error is thrown if it doesn't exist.\n",
    "+ You can `pop()` the last item (or specify an index) off the list. This also returns what it popped.\n",
    "+ Concatenate lists by adding them together.\n",
    "+ `clear()` a list to remove all its contents."
   ]
  },
  {
   "cell_type": "markdown",
   "metadata": {
    "slideshow": {
     "slide_type": "-"
    }
   },
   "source": [
    "There are *many* more list methods available. A reference can be found [here](https://www.w3schools.com/python/python_ref_list.asp)."
   ]
  },
  {
   "cell_type": "markdown",
   "metadata": {
    "slideshow": {
     "slide_type": "slide"
    }
   },
   "source": [
    "# Tuple\n",
    "\n",
    "These are unordered and unchangeable / immutable."
   ]
  },
  {
   "cell_type": "code",
   "execution_count": 3,
   "metadata": {
    "slideshow": {
     "slide_type": "-"
    }
   },
   "outputs": [
    {
     "name": "stdout",
     "output_type": "stream",
     "text": [
      "('apple', 'banana', 'orange')\n",
      "3\n",
      "banana\n",
      "orange\n",
      "('apple', 'banana')\n",
      "True\n",
      "APPLE\n",
      "a\n"
     ]
    }
   ],
   "source": [
    "fruits = (\"apple\", \"banana\", \"orange\")\n",
    "\n",
    "print(fruits)\n",
    "print(len(fruits))\n",
    "print(fruits[1])\n",
    "print(fruits[-1])\n",
    "print(fruits[0:2])\n",
    "print(\"banana\" in fruits)\n",
    "print(fruits[0].upper())\n",
    "print(fruits[1][1])"
   ]
  },
  {
   "cell_type": "markdown",
   "metadata": {
    "slideshow": {
     "slide_type": "notes"
    }
   },
   "source": [
    "+ You can use the same operators as strings to determine the length, get specific elements, and see if an element is in the tuple.\n",
    "+ Since this tuple stores strings, you can then even use string functions on the result!"
   ]
  },
  {
   "cell_type": "code",
   "execution_count": 4,
   "metadata": {
    "slideshow": {
     "slide_type": "subslide"
    }
   },
   "outputs": [
    {
     "name": "stdout",
     "output_type": "stream",
     "text": [
      "('apple', 'banana', 'orange', 'carrot', 'squash')\n"
     ]
    }
   ],
   "source": [
    "fruits = (\"apple\", \"banana\", \"orange\")\n",
    "veggies = (\"carrot\", \"squash\")\n",
    "\n",
    "# fruits[1] = \"pineapple\" ## Illegal!\n",
    "# print(fruits)\n",
    "\n",
    "# fruits.append(\"blueberry\") ## Illegal!\n",
    "# fruits.insert(1, \"tomato\") ## Illegal!\n",
    "# print(fruits)\n",
    "\n",
    "# fruits.remove(\"apple\") ## Illegal!\n",
    "# print(fruits)\n",
    "\n",
    "# popped = fruits.pop() ## Illegal!\n",
    "# print(fruits)\n",
    "# print(popped)\n",
    "\n",
    "print(fruits + veggies)\n",
    "\n",
    "# fruits.clear() ## Illegal!\n",
    "# print(fruits)"
   ]
  },
  {
   "cell_type": "markdown",
   "metadata": {
    "slideshow": {
     "slide_type": "notes"
    }
   },
   "source": [
    "+ Concatenate tuples by adding them together."
   ]
  },
  {
   "cell_type": "markdown",
   "metadata": {
    "slideshow": {
     "slide_type": "subslide"
    }
   },
   "source": [
    "There are only two methods available for tuples, `count()` and `index()`. [Learn more here](https://www.w3schools.com/python/python_ref_tuple.asp)."
   ]
  },
  {
   "cell_type": "markdown",
   "metadata": {
    "slideshow": {
     "slide_type": "slide"
    }
   },
   "source": [
    "# Sets\n",
    "\n",
    "These have no order and do not allow duplicates. They are also unindexed."
   ]
  },
  {
   "cell_type": "code",
   "execution_count": 5,
   "metadata": {
    "slideshow": {
     "slide_type": "-"
    }
   },
   "outputs": [
    {
     "name": "stdout",
     "output_type": "stream",
     "text": [
      "{'orange', 'banana', 'apple'}\n",
      "3\n",
      "True\n"
     ]
    }
   ],
   "source": [
    "fruits = {\"apple\", \"banana\", \"orange\"}\n",
    "\n",
    "print(fruits)\n",
    "print(len(fruits))\n",
    "# print(fruits[1]) ## Illegal!\n",
    "# print(fruits[-1])  ## Illegal!\n",
    "# print(fruits[0:2])  ## Illegal!\n",
    "print(\"banana\" in fruits)\n",
    "# print(fruits[0].upper())  ## Illegal!\n",
    "# print(fruits[1][1])  ## Illegal!"
   ]
  },
  {
   "cell_type": "markdown",
   "metadata": {
    "slideshow": {
     "slide_type": "notes"
    }
   },
   "source": [
    "+ You can use the same operators as strings to see if an element is in the list."
   ]
  },
  {
   "cell_type": "code",
   "execution_count": 6,
   "metadata": {
    "slideshow": {
     "slide_type": "subslide"
    }
   },
   "outputs": [
    {
     "name": "stdout",
     "output_type": "stream",
     "text": [
      "{'orange', 'blueberry', 'banana', 'apple'}\n",
      "{'orange', 'blueberry', 'banana'}\n",
      "{'orange', 'blueberry', 'banana'}\n",
      "{'blueberry', 'banana'}\n",
      "orange\n",
      "{'carrot', 'blueberry', 'banana', 'squash'}\n",
      "set()\n"
     ]
    }
   ],
   "source": [
    "fruits = {\"apple\", \"banana\", \"orange\"}\n",
    "veggies = {\"carrot\", \"squash\"}\n",
    "\n",
    "# fruits[1] = \"pineapple\" ## Illegal!\n",
    "# print(fruits)\n",
    "\n",
    "fruits.add(\"blueberry\")\n",
    "# fruits.insert(1, \"tomato\")  ## Illegal!\n",
    "print(fruits)\n",
    "\n",
    "fruits.remove(\"apple\")\n",
    "print(fruits)\n",
    "\n",
    "fruits.discard(\"lemon\")\n",
    "print(fruits)\n",
    "\n",
    "popped = fruits.pop()\n",
    "print(fruits)\n",
    "print(popped)\n",
    "\n",
    "union = fruits.union(veggies)\n",
    "print(union)\n",
    "\n",
    "fruits.clear()\n",
    "print(fruits)"
   ]
  },
  {
   "cell_type": "markdown",
   "metadata": {
    "slideshow": {
     "slide_type": "notes"
    }
   },
   "source": [
    "+ You can update an item a a given index by referencing its postiion and assigning a value\n",
    "+ You can `add()` a value.\n",
    "+ You can `remove()` a given value. An error is thrown if it doesn't exist.\n",
    "+ You can `discard()` a value. No error is thrown if it doesn't exist.\n",
    "+ You can `pop()` the last item off the set. This also returns what it popped. Remember that the last item is arbitrary.\n",
    "+ Several methods exist to do set operations, like `union()` and `intersection()`.\n",
    "+ `clear()` a set to remove all its contents."
   ]
  },
  {
   "cell_type": "markdown",
   "metadata": {
    "slideshow": {
     "slide_type": "subslide"
    }
   },
   "source": [
    "There are *many* more set methods available. A reference can be found [here](https://www.w3schools.com/python/python_ref_set.asp)."
   ]
  },
  {
   "cell_type": "markdown",
   "metadata": {
    "slideshow": {
     "slide_type": "slide"
    }
   },
   "source": [
    "# Dictionary\n",
    "\n",
    "A dictionary is a map between a string key and a value."
   ]
  },
  {
   "cell_type": "code",
   "execution_count": 7,
   "metadata": {
    "slideshow": {
     "slide_type": "-"
    }
   },
   "outputs": [
    {
     "name": "stdout",
     "output_type": "stream",
     "text": [
      "{'orange': 'orange', 'banana': 'yellow', 'apple': 'red'}\n",
      "dict_values(['orange', 'yellow', 'red'])\n",
      "dict_items([('orange', 'orange'), ('banana', 'yellow'), ('apple', 'red')])\n",
      "3\n",
      "yellow\n",
      "True\n",
      "False\n"
     ]
    }
   ],
   "source": [
    "colors = {\"orange\": \"orange\", \"banana\": \"yellow\", \"apple\": \"red\"}\n",
    "\n",
    "print(colors)\n",
    "print(colors.values())\n",
    "print(colors.items())\n",
    "print(len(colors))\n",
    "\n",
    "print(colors[\"banana\"])\n",
    "\n",
    "print(\"banana\" in colors)\n",
    "print(\"yellow\" in colors)"
   ]
  },
  {
   "cell_type": "markdown",
   "metadata": {
    "slideshow": {
     "slide_type": "notes"
    }
   },
   "source": [
    "+ Use `values()` to get the actual values, or `items()` to get tuples of key-value pairs.\n",
    "+ You can use the `in` keyword to see if a **key** is in the dictionary. To check values, you will have to check the `values()`."
   ]
  },
  {
   "cell_type": "code",
   "execution_count": 8,
   "metadata": {
    "slideshow": {
     "slide_type": "subslide"
    }
   },
   "outputs": [
    {
     "name": "stdout",
     "output_type": "stream",
     "text": [
      "dict_items([('orange', 'orange'), ('banana', 'yellow'), ('apple', 'red'), ('blueberry', 'blue')])\n",
      "dict_items([('orange', 'orange'), ('banana', 'yellow'), ('blueberry', 'blue')])\n",
      "red\n",
      "dict_items([('orange', 'orange'), ('banana', 'yellow')])\n",
      "('blueberry', 'blue')\n",
      "dict_items([('orange', 'orange'), ('banana', 'yellow'), ('more', {'tomato': 'red'})])\n",
      "dict_items([])\n"
     ]
    }
   ],
   "source": [
    "colors = {\"orange\": \"orange\", \"banana\": \"yellow\", \"apple\": \"red\"}\n",
    "colors2 = {\"tomato\": \"red\"}\n",
    "\n",
    "colors[\"blueberry\"] = \"blue\"\n",
    "print(colors.items())\n",
    "\n",
    "popped = colors.pop(\"apple\")\n",
    "print(colors.items())\n",
    "print(popped)\n",
    "\n",
    "popped = colors.popitem()\n",
    "print(colors.items())\n",
    "print(popped)\n",
    "\n",
    "colors[\"more\"] = colors2\n",
    "print(colors.items())\n",
    "\n",
    "colors.clear()\n",
    "print(colors.items())"
   ]
  },
  {
   "cell_type": "markdown",
   "metadata": {
    "slideshow": {
     "slide_type": "notes"
    }
   },
   "source": [
    "+ Add new items to the dictionary by assigning a value to the new key.\n",
    "+ `pop()` removes the item with the specified key, and returns its value.\n",
    "+ `popitem()` removes the last added item, and returns a tuple of the key and value.\n",
    "+ You can nest dictionaries by setting a key to have a dictionary as the value.\n",
    "+ `clear()` removes all items from the dictionary."
   ]
  },
  {
   "cell_type": "markdown",
   "metadata": {
    "slideshow": {
     "slide_type": "-"
    }
   },
   "source": [
    "There are *many* more dictionary methods available. A reference can be found [here](https://www.w3schools.com/python/python_ref_dictionary.asp)."
   ]
  }
 ],
 "metadata": {
  "celltoolbar": "Slideshow",
  "kernelspec": {
   "display_name": "Python 3",
   "language": "python",
   "name": "python3"
  },
  "language_info": {
   "codemirror_mode": {
    "name": "ipython",
    "version": 3
   },
   "file_extension": ".py",
   "mimetype": "text/x-python",
   "name": "python",
   "nbconvert_exporter": "python",
   "pygments_lexer": "ipython3",
   "version": "3.6.9"
  },
  "title": "Lesson 4: Non-Primitive Data Types"
 },
 "nbformat": 4,
 "nbformat_minor": 2
}
