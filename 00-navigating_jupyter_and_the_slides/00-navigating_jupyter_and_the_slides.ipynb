{
 "cells": [
  {
   "cell_type": "markdown",
   "metadata": {
    "slideshow": {
     "slide_type": "slide"
    }
   },
   "source": [
    "# Lesson 0: Navigating Jupyter and the Slides\n",
    "\n",
    "Press the spacebar, `n`, or the right arrow to advance slides. If you're on the notes or notebook, just scroll down. But you knew that."
   ]
  },
  {
   "cell_type": "markdown",
   "metadata": {
    "slideshow": {
     "slide_type": "slide"
    }
   },
   "source": [
    "# About the Slides, Notes, and Notebook\n",
    "The slides and notes are all generated from the Jupyter Notebook, so they have the same content (well, sort of; see the Notes or Notebook for why there's a caveat)!\n",
    "\n",
    "Some slides, like this one have more than one part, called \"Sub-Slides\". If you're using the arrow keys, you'll have to press Up/Down to view these sub-slides when those arrows light up. If you're using `n` or the spacebar, it'll advance as you expect."
   ]
  },
  {
   "cell_type": "markdown",
   "metadata": {
    "slideshow": {
     "slide_type": "subslide"
    }
   },
   "source": [
    "Would you look at that! It's a sub-slide!\n",
    "\n",
    "To view the other keyboard shortcuts for the slides, press `?`."
   ]
  },
  {
   "cell_type": "markdown",
   "metadata": {
    "slideshow": {
     "slide_type": "notes"
    }
   },
   "source": [
    "# Notes\n",
    "If you're viewing this in the Notebook or Notes, you'll notice that this cell doesn't appear on the presentation. These will be used to provide more information and context that shouldn't be on a slide."
   ]
  },
  {
   "cell_type": "code",
   "execution_count": 1,
   "metadata": {
    "slideshow": {
     "slide_type": "slide"
    }
   },
   "outputs": [
    {
     "name": "stdout",
     "output_type": "stream",
     "text": [
      "Hello, World!\n"
     ]
    }
   ],
   "source": [
    "print(\"Hello, World!\")"
   ]
  },
  {
   "cell_type": "markdown",
   "metadata": {
    "slideshow": {
     "slide_type": "fragment"
    }
   },
   "source": [
    "# A wild code block appears...\n",
    "What's that? A wild code block has appeared! These are actual interactive code blocks. The code you see has actually run, and the output is exactly as Python has generated, save for some formatting beautifications for more advanced things like tables."
   ]
  },
  {
   "cell_type": "markdown",
   "metadata": {
    "slideshow": {
     "slide_type": "fragment"
    }
   },
   "source": [
    "To run the code in a notebook, you can...\n",
    "\n",
    "+ Select the cell, then press `Run` in the toolbar\n",
    "+ Select the cell, then press `Cell > Run Cells`\n",
    "+ Press `Cell` then `Run All`, `Run All Above`, or `Run All Below`"
   ]
  },
  {
   "cell_type": "markdown",
   "metadata": {
    "slideshow": {
     "slide_type": "slide"
    }
   },
   "source": [
    "# That's all folks!\n",
    "Have fun learning!"
   ]
  }
 ],
 "metadata": {
  "celltoolbar": "Slideshow",
  "kernelspec": {
   "display_name": "Python 3",
   "language": "python",
   "name": "python3"
  },
  "language_info": {
   "codemirror_mode": {
    "name": "ipython",
    "version": 3
   },
   "file_extension": ".py",
   "mimetype": "text/x-python",
   "name": "python",
   "nbconvert_exporter": "python",
   "pygments_lexer": "ipython3",
   "version": "3.6.9"
  },
  "title": "Lesson 0: Navigating Jupyter and the Slides"
 },
 "nbformat": 4,
 "nbformat_minor": 2
}
