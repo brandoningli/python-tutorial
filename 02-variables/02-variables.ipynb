{
 "cells": [
  {
   "cell_type": "markdown",
   "metadata": {
    "slideshow": {
     "slide_type": "slide"
    }
   },
   "source": [
    "# Lesson 2: Variables"
   ]
  },
  {
   "cell_type": "markdown",
   "metadata": {
    "slideshow": {
     "slide_type": "-"
    }
   },
   "source": [
    "In this lesson, we will learn about...\n",
    "\n",
    "+ Variable Assignment\n",
    "+ Primitive Data Types\n",
    "+ Type Casting"
   ]
  },
  {
   "cell_type": "markdown",
   "metadata": {
    "slideshow": {
     "slide_type": "slide"
    }
   },
   "source": [
    "# Variable Assignment\n",
    "\n",
    "**Assignment:** Giving a variable a value"
   ]
  },
  {
   "cell_type": "code",
   "execution_count": 1,
   "metadata": {
    "slideshow": {
     "slide_type": "-"
    }
   },
   "outputs": [],
   "source": [
    "a = 100\n",
    "b = 1000.5\n",
    "c = \"Python\""
   ]
  },
  {
   "cell_type": "markdown",
   "metadata": {
    "slideshow": {
     "slide_type": "slide"
    }
   },
   "source": [
    "## Identifiers\n",
    "\n",
    "+ An Identifier is a name to identify a variable, function, class, module, etc.\n",
    "+ Starts with a letter or an underscore, followed by one or more letters, underscores, digits\n",
    "  + Class names start with a capital letter\n",
    "  + All other identifiers start with a lowercase letter\n",
    "  + Starting with an underscore is convention for a \"private\" variable\n",
    "+ No punctuation allowed\n",
    "+ Case sensitive\n",
    "+ Separate words with underscores\n",
    "  + This is what Python's Style Guide suggests for readability\n",
    "  + You may also see people using camelCase"
   ]
  },
  {
   "cell_type": "markdown",
   "metadata": {
    "slideshow": {
     "slide_type": "slide"
    }
   },
   "source": [
    "## Reserved Words\n",
    "\n",
    "These are words with special meaning in Python, and cannot be used as identifiers. They usually change color in your IDE / editor."
   ]
  },
  {
   "cell_type": "code",
   "execution_count": 2,
   "metadata": {
    "slideshow": {
     "slide_type": "-"
    }
   },
   "outputs": [
    {
     "name": "stdout",
     "output_type": "stream",
     "text": [
      "\n",
      "Here is a list of the Python keywords.  Enter any keyword to get more help.\n",
      "\n",
      "False               def                 if                  raise\n",
      "None                del                 import              return\n",
      "True                elif                in                  try\n",
      "and                 else                is                  while\n",
      "as                  except              lambda              with\n",
      "assert              finally             nonlocal            yield\n",
      "break               for                 not                 \n",
      "class               from                or                  \n",
      "continue            global              pass                \n",
      "\n"
     ]
    }
   ],
   "source": [
    "help(\"keywords\")"
   ]
  },
  {
   "cell_type": "markdown",
   "metadata": {
    "slideshow": {
     "slide_type": "slide"
    }
   },
   "source": [
    "## Multiple Assignment\n",
    "\n",
    "Python allows you to assign values to multiple variables simulaneously."
   ]
  },
  {
   "cell_type": "code",
   "execution_count": 3,
   "metadata": {
    "slideshow": {
     "slide_type": "-"
    }
   },
   "outputs": [],
   "source": [
    "d = e = 1\n",
    "f,g,h = 2,3,\"Programming\""
   ]
  },
  {
   "cell_type": "markdown",
   "metadata": {
    "slideshow": {
     "slide_type": "slide"
    }
   },
   "source": [
    "# Data Types\n",
    "\n",
    "Python has many built-in data types. We typically divide them into \"primitives\" and \"non-primitives\"."
   ]
  },
  {
   "cell_type": "markdown",
   "metadata": {
    "slideshow": {
     "slide_type": "slide"
    }
   },
   "source": [
    "## Primitive Data Types\n",
    "\n",
    "These data types are the fundamental building blocks of a language. Python's primitives include...\n",
    "\n",
    "+ Text: `str`\n",
    "+ Numeric: `int`, `float`, `complex`\n",
    "+ Boolean: `bool`\n",
    "\n",
    "We'll learn about non-primitive data types in a later lesson."
   ]
  },
  {
   "cell_type": "code",
   "execution_count": 4,
   "metadata": {
    "slideshow": {
     "slide_type": "subslide"
    }
   },
   "outputs": [
    {
     "name": "stdout",
     "output_type": "stream",
     "text": [
      "<class 'str'>\n",
      "<class 'int'>\n",
      "<class 'float'>\n",
      "<class 'float'>\n",
      "<class 'complex'>\n",
      "<class 'bool'>\n"
     ]
    }
   ],
   "source": [
    "this_is_a_string = \"A String\"\n",
    "this_is_an_int = 5\n",
    "this_is_a_float = 5.203\n",
    "this_is_a_scientific_float = 1.5e6\n",
    "this_is_complex = 5 + 3j\n",
    "this_is_a_bool = True #(or False)\n",
    "\n",
    "print(type(this_is_a_string))\n",
    "print(type(this_is_an_int))\n",
    "print(type(this_is_a_float))\n",
    "print(type(this_is_a_scientific_float))\n",
    "print(type(this_is_complex))\n",
    "print(type(this_is_a_bool))"
   ]
  },
  {
   "cell_type": "markdown",
   "metadata": {
    "slideshow": {
     "slide_type": "notes"
    }
   },
   "source": [
    "+ **Strings** are literal text, enclosed in single, double, or triple quotes.\n",
    "+ **Integers** are whole numbers, positive or negative (or zero), without decimals\n",
    "+ **Floats** are positive or negative (or zero) numbers with decimals. Floats can be expressed in scientific notation as well.\n",
    "+ **Complex** numbers have a real component and an imaginary component (represented with `j`)\n",
    "+ **Booleans**, named after mathematician [George Bool](https://en.wikipedia.org/wiki/George_Boole), are binary values that are either `True` or `False`. The capitalization is important."
   ]
  },
  {
   "cell_type": "markdown",
   "metadata": {
    "slideshow": {
     "slide_type": "slide"
    }
   },
   "source": [
    "## Type Casting\n",
    "\n",
    "+ Sometimes, you'll need to convert from one data type to another. This is called \"type casting.\"\n",
    "+ Python will implicitly cast numbers when able to \"larger\" types to preserve data.\n",
    "  + Ex: `int` + `float` yields a `float`"
   ]
  },
  {
   "cell_type": "code",
   "execution_count": 5,
   "metadata": {
    "slideshow": {
     "slide_type": "subslide"
    }
   },
   "outputs": [
    {
     "name": "stdout",
     "output_type": "stream",
     "text": [
      "2\n",
      "<class 'int'>\n",
      "3.0\n",
      "<class 'float'>\n",
      "3\n",
      "<class 'str'>\n",
      "7\n",
      "<class 'int'>\n",
      "5.0\n",
      "<class 'float'>\n"
     ]
    }
   ],
   "source": [
    "x = int(2.8)\n",
    "y = float(3)\n",
    "z = str(3)\n",
    "w = int(\"7\")\n",
    "v = x + y\n",
    "\n",
    "print(x)\n",
    "print(type(x))\n",
    "print(y)\n",
    "print(type(y))\n",
    "print(z)\n",
    "print(type(z))\n",
    "print(w)\n",
    "print(type(w))\n",
    "print(v)\n",
    "print(type(v))"
   ]
  },
  {
   "cell_type": "markdown",
   "metadata": {
    "slideshow": {
     "slide_type": "slide"
    }
   },
   "source": [
    "## String Special Features\n",
    "\n",
    "Strings represent a sequence of characters, and have some features we'll also see in the more complex data structures."
   ]
  },
  {
   "cell_type": "markdown",
   "metadata": {
    "slideshow": {
     "slide_type": "subslide"
    }
   },
   "source": [
    "### Get a Character\n",
    "\n",
    "+ Use brackets to get a character at a given position\n",
    "+ These **indexes** start with **the first character at 0**."
   ]
  },
  {
   "cell_type": "code",
   "execution_count": 6,
   "metadata": {
    "slideshow": {
     "slide_type": "-"
    }
   },
   "outputs": [
    {
     "name": "stdout",
     "output_type": "stream",
     "text": [
      "e\n"
     ]
    }
   ],
   "source": [
    "hello = \"Hello, World!\"\n",
    "print(hello[1])"
   ]
  },
  {
   "cell_type": "markdown",
   "metadata": {
    "slideshow": {
     "slide_type": "subslide"
    }
   },
   "source": [
    "### Slicing / Substring\n",
    "\n",
    "+ Use the brackets with a colon to get a slice, or part, of the string from the start to end index (exclusive).\n",
    "+ `start` $\\leq$ `end`\n",
    "+ **Tip:** `end` $-$ `start` $=$ length of slice\n",
    "+ You can also optionally leave out either the start or the end index"
   ]
  },
  {
   "cell_type": "code",
   "execution_count": 7,
   "metadata": {
    "slideshow": {
     "slide_type": "-"
    }
   },
   "outputs": [
    {
     "name": "stdout",
     "output_type": "stream",
     "text": [
      "llo\n",
      "Hello\n",
      "rld!\n"
     ]
    }
   ],
   "source": [
    "hello = \"Hello, World!\"\n",
    "print(hello[2:5])\n",
    "print(hello[:5])\n",
    "print(hello[9:])"
   ]
  },
  {
   "cell_type": "markdown",
   "metadata": {
    "slideshow": {
     "slide_type": "subslide"
    }
   },
   "source": [
    "### Negative Indexing\n",
    "\n",
    "You can also use negative numbers to index from the end of the string! The last character is index `-1`."
   ]
  },
  {
   "cell_type": "code",
   "execution_count": 8,
   "metadata": {
    "slideshow": {
     "slide_type": "-"
    }
   },
   "outputs": [
    {
     "name": "stdout",
     "output_type": "stream",
     "text": [
      "orl\n"
     ]
    }
   ],
   "source": [
    "hello = \"Hello, World!\"\n",
    "print(hello[-5:-2])"
   ]
  },
  {
   "cell_type": "markdown",
   "metadata": {
    "slideshow": {
     "slide_type": "subslide"
    }
   },
   "source": [
    "### Length\n",
    "\n",
    "Use `len()` to get the length of, or number of characters in, a string."
   ]
  },
  {
   "cell_type": "code",
   "execution_count": 9,
   "metadata": {
    "slideshow": {
     "slide_type": "-"
    }
   },
   "outputs": [
    {
     "name": "stdout",
     "output_type": "stream",
     "text": [
      "13\n"
     ]
    }
   ],
   "source": [
    "hello = \"Hello, World!\"\n",
    "print(len(hello))"
   ]
  },
  {
   "cell_type": "markdown",
   "metadata": {
    "slideshow": {
     "slide_type": "subslide"
    }
   },
   "source": [
    "### String Methods\n",
    "\n",
    "There are various other methods you can run on a string. A full list can be found [here](https://www.w3schools.com/python/python_ref_string.asp).\n",
    "\n",
    "**Note:** All string methods return a *new* string, and don't replace the original."
   ]
  },
  {
   "cell_type": "code",
   "execution_count": 10,
   "metadata": {
    "slideshow": {
     "slide_type": "-"
    }
   },
   "outputs": [
    {
     "name": "stdout",
     "output_type": "stream",
     "text": [
      "HELLO, WORLD!\n",
      "hello, world!\n",
      "Jello, World!\n",
      "['Hello', ' World!']\n",
      "False\n"
     ]
    }
   ],
   "source": [
    "hello = \"Hello, World!\"\n",
    "print(hello.upper())\n",
    "print(hello.lower())\n",
    "print(hello.replace(\"H\", \"J\"))\n",
    "print(hello.split(\",\"))\n",
    "print(\"world\" in hello)"
   ]
  },
  {
   "cell_type": "markdown",
   "metadata": {
    "slideshow": {
     "slide_type": "notes"
    }
   },
   "source": [
    "+ `upper()` and `lower()` transform the string to all uppercase and lowercase characters respecitively\n",
    "+ `replace()` will replace all instances of the first string with the second, case sensitive\n",
    "+ `split()` will split the string into a list of substrings at whatever string is specified. That separator is not included in any substring.\n",
    "+ `x in y` will return `True` if `x` is a substring of `y`, and `False` otherwise. We'll learn more about boolean operators later"
   ]
  },
  {
   "cell_type": "markdown",
   "metadata": {
    "slideshow": {
     "slide_type": "subslide"
    }
   },
   "source": [
    "### Concatenation\n",
    "\n",
    "You can concatenate two strings by adding them."
   ]
  },
  {
   "cell_type": "code",
   "execution_count": 11,
   "metadata": {
    "slideshow": {
     "slide_type": "-"
    }
   },
   "outputs": [
    {
     "name": "stdout",
     "output_type": "stream",
     "text": [
      "Hello, World!\n"
     ]
    }
   ],
   "source": [
    "hello = \"Hello, \" + \"World!\"\n",
    "print(hello)"
   ]
  },
  {
   "cell_type": "markdown",
   "metadata": {
    "slideshow": {
     "slide_type": "subslide"
    }
   },
   "source": [
    "### Escape Characters\n",
    "\n",
    "Use escape sequences to insert invisible or otherwise illegal characters in strings. These include...\n",
    "\n",
    "|Escape|Result|\n",
    "|---:|:---|\n",
    "|`\\'`|Single Quote|\n",
    "|`\\\"`|Double Quote|\n",
    "|`\\n`|New Line|\n",
    "|`\\r`|Carriage Return|\n",
    "|`\\t`|Tab|\n",
    "|`\\b`|Backspace|\n",
    "|`\\\\`|Backslash|"
   ]
  },
  {
   "cell_type": "code",
   "execution_count": 12,
   "metadata": {
    "slideshow": {
     "slide_type": "-"
    }
   },
   "outputs": [
    {
     "name": "stdout",
     "output_type": "stream",
     "text": [
      "He\"ll\"o,\tWor\n",
      "ld\\!\b\n"
     ]
    }
   ],
   "source": [
    "hello = \"He\\\"ll\\\"o,\\tWor\\nld\\\\!\\b\"\n",
    "print(hello)"
   ]
  }
 ],
 "metadata": {
  "celltoolbar": "Slideshow",
  "kernelspec": {
   "display_name": "Python 3",
   "language": "python",
   "name": "python3"
  },
  "language_info": {
   "codemirror_mode": {
    "name": "ipython",
    "version": 3
   },
   "file_extension": ".py",
   "mimetype": "text/x-python",
   "name": "python",
   "nbconvert_exporter": "python",
   "pygments_lexer": "ipython3",
   "version": "3.6.9"
  },
  "title": "Lesson 2: Variables"
 },
 "nbformat": 4,
 "nbformat_minor": 2
}
