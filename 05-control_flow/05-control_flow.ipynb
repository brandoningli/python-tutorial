{
 "cells": [
  {
   "cell_type": "markdown",
   "metadata": {
    "slideshow": {
     "slide_type": "slide"
    }
   },
   "source": [
    "# Lesson 5: Control Flow\n",
    "\n",
    "In this lesson, we will learn about...\n",
    "\n",
    "+ If...Else statements\n",
    "+ While Loops\n",
    "+ For Loops"
   ]
  },
  {
   "cell_type": "markdown",
   "metadata": {
    "slideshow": {
     "slide_type": "slide"
    }
   },
   "source": [
    "# If...Else Statements\n",
    "\n",
    "These allow us to selectively run parts of a program depending on if a condition is met. Let's look at the anatomy of an if statement.\n",
    "\n",
    "```python\n",
    "if CONDITION:\n",
    "    do something\n",
    "elif CONDITION:\n",
    "    do another thing\n",
    "else:\n",
    "    do a third thing\n",
    "```"
   ]
  },
  {
   "cell_type": "markdown",
   "metadata": {
    "slideshow": {
     "slide_type": "fragment"
    }
   },
   "source": [
    "This corresponds to the following actions in plain English:\n",
    "\n",
    "1. If the first condition is true, \"do something\", then skip the rest of the if...else\n",
    "2. Otherwise, if the second condition is true, \"do another thing\", then skip the rest of the if...else\n",
    "3. If none of the above conditions are true, \"do a third thing\"."
   ]
  },
  {
   "cell_type": "markdown",
   "metadata": {
    "slideshow": {
     "slide_type": "fragment"
    }
   },
   "source": [
    "NOTE: Only the `if` is required. You can leave out `elif` and `else` entirely, and have as many `elif`s as you want. You can only have one `if` and one `else`."
   ]
  },
  {
   "cell_type": "code",
   "execution_count": 1,
   "metadata": {
    "slideshow": {
     "slide_type": "slide"
    }
   },
   "outputs": [
    {
     "name": "stdout",
     "output_type": "stream",
     "text": [
      "5 is odd!\n"
     ]
    }
   ],
   "source": [
    "x = 5\n",
    "if x % 2 == 0:\n",
    "    print(x, \"is even!\")\n",
    "else:\n",
    "    print(x, \"is odd!\")"
   ]
  },
  {
   "cell_type": "markdown",
   "metadata": {
    "slideshow": {
     "slide_type": "slide"
    }
   },
   "source": [
    "# Conditions\n",
    "\n",
    "Conditions are anything that resolve to either `True` or `False`. They can be...\n",
    "\n",
    "+ Boolean variables\n",
    "+ Boolean Expressions / Comparisons\n",
    "+ Function Calls"
   ]
  },
  {
   "cell_type": "markdown",
   "metadata": {
    "slideshow": {
     "slide_type": "slide"
    }
   },
   "source": [
    "## Falsy Values\n",
    "\n",
    "Some values aren't the literal `False` but still evaluate to be `False`. These are called **falsy**. They are...\n",
    "\n",
    "+ Empty collections (lists, tuples, dictionaries, strings, ...)\n",
    "+ The number 0 in any form\n",
    "+ `None`\n",
    "+ `False`\n",
    "\n",
    "Any other values are considered **truthy** and evaluate to `True`."
   ]
  },
  {
   "cell_type": "markdown",
   "metadata": {
    "slideshow": {
     "slide_type": "fragment"
    }
   },
   "source": [
    "## Comparisons and Logical Operators\n",
    "\n",
    "Recall from Lesson 3 that there are several operators used for comparisons. There are also operators to combine expressions, such as `and` and `or` called logical operators."
   ]
  },
  {
   "cell_type": "markdown",
   "metadata": {
    "slideshow": {
     "slide_type": "slide"
    }
   },
   "source": [
    "# Loops\n",
    "\n",
    "Loops let us run a section of code over and over again. There are two main types of loops in python...\n",
    "\n",
    "+ While Loops\n",
    "+ For Loops"
   ]
  },
  {
   "cell_type": "markdown",
   "metadata": {
    "slideshow": {
     "slide_type": "slide"
    }
   },
   "source": [
    "## While Loops\n",
    "\n",
    "These loops run **while** a condition is true. These conditions are the same as with if statements."
   ]
  },
  {
   "cell_type": "code",
   "execution_count": 2,
   "metadata": {
    "slideshow": {
     "slide_type": "-"
    }
   },
   "outputs": [
    {
     "name": "stdout",
     "output_type": "stream",
     "text": [
      "1\n",
      "2\n",
      "3\n",
      "4\n",
      "5\n"
     ]
    }
   ],
   "source": [
    "i = 1\n",
    "while i < 6:\n",
    "    print(i)\n",
    "    i += 1"
   ]
  },
  {
   "cell_type": "markdown",
   "metadata": {
    "slideshow": {
     "slide_type": "subslide"
    }
   },
   "source": [
    "### `break` and `continue`\n",
    "\n",
    "You can use these keywords in a loop to stop the loop (`break`) or skip to the next iteration (`continue`)."
   ]
  },
  {
   "cell_type": "code",
   "execution_count": 3,
   "metadata": {
    "slideshow": {
     "slide_type": "-"
    }
   },
   "outputs": [
    {
     "name": "stdout",
     "output_type": "stream",
     "text": [
      "1\n",
      "2\n",
      "4\n"
     ]
    }
   ],
   "source": [
    "i = 1\n",
    "while i < 6:\n",
    "    if i == 3:\n",
    "        i += 1\n",
    "        continue\n",
    "    elif i == 5:\n",
    "        break\n",
    "    print(i)\n",
    "    i += 1"
   ]
  },
  {
   "cell_type": "markdown",
   "metadata": {
    "slideshow": {
     "slide_type": "slide"
    }
   },
   "source": [
    "## For Loops\n",
    "\n",
    "For loops are used to iterate over a sequence or finite range (list, tuple, set, string, ...)"
   ]
  },
  {
   "cell_type": "code",
   "execution_count": 4,
   "metadata": {},
   "outputs": [
    {
     "name": "stdout",
     "output_type": "stream",
     "text": [
      "banana\n",
      "orange\n",
      "strawberry\n"
     ]
    }
   ],
   "source": [
    "fruits = [\"banana\", \"orange\", \"strawberry\"]\n",
    "\n",
    "for fruit in fruits:\n",
    "    print(fruit)"
   ]
  },
  {
   "cell_type": "markdown",
   "metadata": {
    "slideshow": {
     "slide_type": "subslide"
    }
   },
   "source": [
    "### `range()`\n",
    "\n",
    "The `range()` function generates a sequence of numbers from 0 (by default) to a number with a step of 1 (by default).\n",
    "\n",
    "+ 1 parameter: 0 to $x-1$\n",
    "+ 2 parameters: $x$ to $y-1$\n",
    "+ 3 parameters: $x$ to $y-1$ in increments of $z$"
   ]
  },
  {
   "cell_type": "code",
   "execution_count": 5,
   "metadata": {
    "slideshow": {
     "slide_type": "subslide"
    }
   },
   "outputs": [
    {
     "name": "stdout",
     "output_type": "stream",
     "text": [
      "0\n",
      "1\n",
      "2\n"
     ]
    }
   ],
   "source": [
    "for x in range(3):\n",
    "    print(x)"
   ]
  },
  {
   "cell_type": "code",
   "execution_count": 6,
   "metadata": {
    "slideshow": {
     "slide_type": "-"
    }
   },
   "outputs": [
    {
     "name": "stdout",
     "output_type": "stream",
     "text": [
      "1\n",
      "2\n",
      "3\n"
     ]
    }
   ],
   "source": [
    "for y in range (1,4):\n",
    "    print(y)"
   ]
  },
  {
   "cell_type": "code",
   "execution_count": 7,
   "metadata": {
    "slideshow": {
     "slide_type": "-"
    }
   },
   "outputs": [
    {
     "name": "stdout",
     "output_type": "stream",
     "text": [
      "2\n",
      "4\n",
      "6\n",
      "8\n"
     ]
    }
   ],
   "source": [
    "for z in range (2,10,2):\n",
    "    print(z)"
   ]
  },
  {
   "cell_type": "markdown",
   "metadata": {
    "slideshow": {
     "slide_type": "subslide"
    }
   },
   "source": [
    "NOTE: `break` and `continue` also work here in the same way as `for` loops."
   ]
  }
 ],
 "metadata": {
  "celltoolbar": "Slideshow",
  "kernelspec": {
   "display_name": "Python 3",
   "language": "python",
   "name": "python3"
  },
  "language_info": {
   "codemirror_mode": {
    "name": "ipython",
    "version": 3
   },
   "file_extension": ".py",
   "mimetype": "text/x-python",
   "name": "python",
   "nbconvert_exporter": "python",
   "pygments_lexer": "ipython3",
   "version": "3.6.9"
  },
  "title": "Lesson 5: Control Flow"
 },
 "nbformat": 4,
 "nbformat_minor": 2
}
